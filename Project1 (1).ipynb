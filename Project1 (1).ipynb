{
 "cells": [
  {
   "cell_type": "markdown",
   "id": "07095754",
   "metadata": {},
   "source": [
    "# 1. Install libraries"
   ]
  },
  {
   "cell_type": "code",
   "execution_count": 1,
   "id": "8302d00f",
   "metadata": {},
   "outputs": [
    {
     "name": "stdout",
     "output_type": "stream",
     "text": [
      "Requirement already satisfied: pandas in c:\\users\\smukt\\anaconda3\\lib\\site-packages (1.4.4)\n",
      "Requirement already satisfied: python-dateutil>=2.8.1 in c:\\users\\smukt\\anaconda3\\lib\\site-packages (from pandas) (2.8.2)\n",
      "Requirement already satisfied: pytz>=2020.1 in c:\\users\\smukt\\anaconda3\\lib\\site-packages (from pandas) (2022.1)\n",
      "Requirement already satisfied: numpy>=1.18.5 in c:\\users\\smukt\\anaconda3\\lib\\site-packages (from pandas) (1.21.5)\n",
      "Requirement already satisfied: six>=1.5 in c:\\users\\smukt\\anaconda3\\lib\\site-packages (from python-dateutil>=2.8.1->pandas) (1.16.0)\n",
      "Requirement already satisfied: matplotlib in c:\\users\\smukt\\anaconda3\\lib\\site-packages (3.5.2)\n",
      "Requirement already satisfied: kiwisolver>=1.0.1 in c:\\users\\smukt\\anaconda3\\lib\\site-packages (from matplotlib) (1.4.2)\n",
      "Requirement already satisfied: cycler>=0.10 in c:\\users\\smukt\\anaconda3\\lib\\site-packages (from matplotlib) (0.11.0)\n",
      "Requirement already satisfied: numpy>=1.17 in c:\\users\\smukt\\anaconda3\\lib\\site-packages (from matplotlib) (1.21.5)\n",
      "Requirement already satisfied: pyparsing>=2.2.1 in c:\\users\\smukt\\anaconda3\\lib\\site-packages (from matplotlib) (3.0.9)\n",
      "Requirement already satisfied: python-dateutil>=2.7 in c:\\users\\smukt\\anaconda3\\lib\\site-packages (from matplotlib) (2.8.2)\n",
      "Requirement already satisfied: fonttools>=4.22.0 in c:\\users\\smukt\\anaconda3\\lib\\site-packages (from matplotlib) (4.25.0)\n",
      "Requirement already satisfied: packaging>=20.0 in c:\\users\\smukt\\anaconda3\\lib\\site-packages (from matplotlib) (21.3)\n",
      "Requirement already satisfied: pillow>=6.2.0 in c:\\users\\smukt\\anaconda3\\lib\\site-packages (from matplotlib) (9.2.0)\n",
      "Requirement already satisfied: six>=1.5 in c:\\users\\smukt\\anaconda3\\lib\\site-packages (from python-dateutil>=2.7->matplotlib) (1.16.0)\n",
      "Requirement already satisfied: pyodbc in c:\\users\\smukt\\anaconda3\\lib\\site-packages (4.0.34)\n"
     ]
    }
   ],
   "source": [
    "!pip install pandas\n",
    "!pip install matplotlib\n",
    "!pip install pyodbc"
   ]
  },
  {
   "cell_type": "markdown",
   "id": "a1c16839",
   "metadata": {},
   "source": [
    "# 2. Connecting to Azure SQL server "
   ]
  },
  {
   "cell_type": "code",
   "execution_count": 2,
   "id": "04430a0d",
   "metadata": {},
   "outputs": [
    {
     "name": "stderr",
     "output_type": "stream",
     "text": [
      "C:\\Users\\smukt\\anaconda3\\lib\\site-packages\\pandas\\io\\sql.py:762: UserWarning: pandas only support SQLAlchemy connectable(engine/connection) ordatabase string URI or sqlite3 DBAPI2 connectionother DBAPI2 objects are not tested, please consider using SQLAlchemy\n",
      "  warnings.warn(\n",
      "C:\\Users\\smukt\\anaconda3\\lib\\site-packages\\pandas\\io\\sql.py:762: UserWarning: pandas only support SQLAlchemy connectable(engine/connection) ordatabase string URI or sqlite3 DBAPI2 connectionother DBAPI2 objects are not tested, please consider using SQLAlchemy\n",
      "  warnings.warn(\n"
     ]
    }
   ],
   "source": [
    "import pandas as pd\n",
    "import pyodbc as odbc\n",
    "import matplotlib.pyplot as plt\n",
    "\n",
    "#connecting to server using odbc\n",
    "sql_conn = odbc.connect('DRIVER={ODBC Driver 17 for SQL Server};SERVER=Johndroescher.com;DATABASE=Fall_2022;UID=satasnimahmed375;PWD=CCny23349375;')\n",
    "\n",
    "#create dataframs using SQL Queries\n",
    "query_1 = \"SELECT * FROM violation_data\"\n",
    "df1 = pd.read_sql(query_1, sql_conn) #df1 has violation data\n",
    "\n",
    "query_2 = \"SELECT * FROM restaurant_data\"\n",
    "df2 = pd.read_sql(query_2, sql_conn) #df2 has restaurant data"
   ]
  },
  {
   "cell_type": "markdown",
   "id": "f2cf428c",
   "metadata": {},
   "source": [
    "# 3. Check if the data is available from the server"
   ]
  },
  {
   "cell_type": "code",
   "execution_count": 3,
   "id": "bf0296d6",
   "metadata": {
    "scrolled": true
   },
   "outputs": [
    {
     "data": {
      "text/html": [
       "<div>\n",
       "<style scoped>\n",
       "    .dataframe tbody tr th:only-of-type {\n",
       "        vertical-align: middle;\n",
       "    }\n",
       "\n",
       "    .dataframe tbody tr th {\n",
       "        vertical-align: top;\n",
       "    }\n",
       "\n",
       "    .dataframe thead th {\n",
       "        text-align: right;\n",
       "    }\n",
       "</style>\n",
       "<table border=\"1\" class=\"dataframe\">\n",
       "  <thead>\n",
       "    <tr style=\"text-align: right;\">\n",
       "      <th></th>\n",
       "      <th>column1</th>\n",
       "      <th>camis</th>\n",
       "      <th>violation_code</th>\n",
       "      <th>violation_description</th>\n",
       "      <th>action</th>\n",
       "      <th>score</th>\n",
       "      <th>inspection_type</th>\n",
       "      <th>grade</th>\n",
       "      <th>grade_date</th>\n",
       "      <th>inspection_date</th>\n",
       "      <th>critical_flag</th>\n",
       "      <th>record_date</th>\n",
       "    </tr>\n",
       "  </thead>\n",
       "  <tbody>\n",
       "    <tr>\n",
       "      <th>0</th>\n",
       "      <td>11332</td>\n",
       "      <td>50010393</td>\n",
       "      <td>04N</td>\n",
       "      <td>Filth flies or food/refuse/sewage-associated (...</td>\n",
       "      <td>Violations were cited in the following area(s).</td>\n",
       "      <td>12.0</td>\n",
       "      <td>Cycle Inspection / Re-inspection</td>\n",
       "      <td>A</td>\n",
       "      <td>2019-10-15</td>\n",
       "      <td>2019-10-15</td>\n",
       "      <td>Critical</td>\n",
       "      <td>2022-08-27 06:00:12</td>\n",
       "    </tr>\n",
       "    <tr>\n",
       "      <th>1</th>\n",
       "      <td>11333</td>\n",
       "      <td>50099700</td>\n",
       "      <td>02B</td>\n",
       "      <td>Hot food item not held at or above 140º F.</td>\n",
       "      <td>Violations were cited in the following area(s).</td>\n",
       "      <td>13.0</td>\n",
       "      <td>Pre-permit (Operational) / Re-inspection</td>\n",
       "      <td>A</td>\n",
       "      <td>2020-01-30</td>\n",
       "      <td>2020-01-30</td>\n",
       "      <td>Critical</td>\n",
       "      <td>2022-08-27 06:00:12</td>\n",
       "    </tr>\n",
       "  </tbody>\n",
       "</table>\n",
       "</div>"
      ],
      "text/plain": [
       "  column1     camis violation_code  \\\n",
       "0   11332  50010393            04N   \n",
       "1   11333  50099700            02B   \n",
       "\n",
       "                               violation_description  \\\n",
       "0  Filth flies or food/refuse/sewage-associated (...   \n",
       "1         Hot food item not held at or above 140º F.   \n",
       "\n",
       "                                            action  score  \\\n",
       "0  Violations were cited in the following area(s).   12.0   \n",
       "1  Violations were cited in the following area(s).   13.0   \n",
       "\n",
       "                            inspection_type grade grade_date inspection_date  \\\n",
       "0          Cycle Inspection / Re-inspection     A 2019-10-15      2019-10-15   \n",
       "1  Pre-permit (Operational) / Re-inspection     A 2020-01-30      2020-01-30   \n",
       "\n",
       "  critical_flag         record_date  \n",
       "0      Critical 2022-08-27 06:00:12  \n",
       "1      Critical 2022-08-27 06:00:12  "
      ]
     },
     "execution_count": 3,
     "metadata": {},
     "output_type": "execute_result"
    }
   ],
   "source": [
    "# print the first 2 rows \n",
    "df1.head(2)"
   ]
  },
  {
   "cell_type": "code",
   "execution_count": 4,
   "id": "418422f1",
   "metadata": {},
   "outputs": [
    {
     "data": {
      "text/html": [
       "<div>\n",
       "<style scoped>\n",
       "    .dataframe tbody tr th:only-of-type {\n",
       "        vertical-align: middle;\n",
       "    }\n",
       "\n",
       "    .dataframe tbody tr th {\n",
       "        vertical-align: top;\n",
       "    }\n",
       "\n",
       "    .dataframe thead th {\n",
       "        text-align: right;\n",
       "    }\n",
       "</style>\n",
       "<table border=\"1\" class=\"dataframe\">\n",
       "  <thead>\n",
       "    <tr style=\"text-align: right;\">\n",
       "      <th></th>\n",
       "      <th>column1</th>\n",
       "      <th>camis</th>\n",
       "      <th>dba</th>\n",
       "      <th>boro</th>\n",
       "      <th>building</th>\n",
       "      <th>street</th>\n",
       "      <th>zipcode</th>\n",
       "      <th>phone</th>\n",
       "      <th>latitude</th>\n",
       "      <th>longitude</th>\n",
       "      <th>community_board</th>\n",
       "      <th>council_district</th>\n",
       "      <th>census_tract</th>\n",
       "      <th>bin</th>\n",
       "      <th>bbl</th>\n",
       "      <th>nta</th>\n",
       "      <th>cuisine_description</th>\n",
       "    </tr>\n",
       "  </thead>\n",
       "  <tbody>\n",
       "    <tr>\n",
       "      <th>27958</th>\n",
       "      <td>176356</td>\n",
       "      <td>50127067</td>\n",
       "      <td>ZHU CHEN</td>\n",
       "      <td>Bronx</td>\n",
       "      <td>2647</td>\n",
       "      <td>JEROME AVENUE</td>\n",
       "      <td>10468</td>\n",
       "      <td>3472163843</td>\n",
       "      <td>40.866947</td>\n",
       "      <td>-73.897812</td>\n",
       "      <td>207</td>\n",
       "      <td>14</td>\n",
       "      <td>26500.0</td>\n",
       "      <td>2014397.0</td>\n",
       "      <td>2032020038</td>\n",
       "      <td>BX30</td>\n",
       "      <td>None</td>\n",
       "    </tr>\n",
       "    <tr>\n",
       "      <th>27959</th>\n",
       "      <td>186130</td>\n",
       "      <td>50127068</td>\n",
       "      <td>None</td>\n",
       "      <td>Brooklyn</td>\n",
       "      <td>706</td>\n",
       "      <td>56 STREET</td>\n",
       "      <td>11220</td>\n",
       "      <td>7183087684</td>\n",
       "      <td>40.638916</td>\n",
       "      <td>-74.009163</td>\n",
       "      <td>307</td>\n",
       "      <td>38</td>\n",
       "      <td>10400.0</td>\n",
       "      <td>3015509.0</td>\n",
       "      <td>3008420010</td>\n",
       "      <td>BK34</td>\n",
       "      <td>None</td>\n",
       "    </tr>\n",
       "  </tbody>\n",
       "</table>\n",
       "</div>"
      ],
      "text/plain": [
       "      column1     camis       dba      boro building         street zipcode  \\\n",
       "27958  176356  50127067  ZHU CHEN     Bronx     2647  JEROME AVENUE   10468   \n",
       "27959  186130  50127068      None  Brooklyn      706      56 STREET   11220   \n",
       "\n",
       "            phone   latitude  longitude community_board council_district  \\\n",
       "27958  3472163843  40.866947 -73.897812             207               14   \n",
       "27959  7183087684  40.638916 -74.009163             307               38   \n",
       "\n",
       "       census_tract        bin         bbl   nta cuisine_description  \n",
       "27958       26500.0  2014397.0  2032020038  BX30                None  \n",
       "27959       10400.0  3015509.0  3008420010  BK34                None  "
      ]
     },
     "execution_count": 4,
     "metadata": {},
     "output_type": "execute_result"
    }
   ],
   "source": [
    "# print the last two rows\n",
    "df2.tail(2)"
   ]
  },
  {
   "cell_type": "markdown",
   "id": "47561cb6",
   "metadata": {},
   "source": [
    "# 4. Combine restaurant_data table and violation_data table"
   ]
  },
  {
   "cell_type": "code",
   "execution_count": 5,
   "id": "27a90aa6",
   "metadata": {},
   "outputs": [
    {
     "data": {
      "text/html": [
       "<div>\n",
       "<style scoped>\n",
       "    .dataframe tbody tr th:only-of-type {\n",
       "        vertical-align: middle;\n",
       "    }\n",
       "\n",
       "    .dataframe tbody tr th {\n",
       "        vertical-align: top;\n",
       "    }\n",
       "\n",
       "    .dataframe thead th {\n",
       "        text-align: right;\n",
       "    }\n",
       "</style>\n",
       "<table border=\"1\" class=\"dataframe\">\n",
       "  <thead>\n",
       "    <tr style=\"text-align: right;\">\n",
       "      <th></th>\n",
       "      <th>column1_x</th>\n",
       "      <th>camis</th>\n",
       "      <th>violation_code</th>\n",
       "      <th>violation_description</th>\n",
       "      <th>action</th>\n",
       "      <th>score</th>\n",
       "      <th>inspection_type</th>\n",
       "      <th>grade</th>\n",
       "      <th>grade_date</th>\n",
       "      <th>inspection_date</th>\n",
       "      <th>...</th>\n",
       "      <th>phone</th>\n",
       "      <th>latitude</th>\n",
       "      <th>longitude</th>\n",
       "      <th>community_board</th>\n",
       "      <th>council_district</th>\n",
       "      <th>census_tract</th>\n",
       "      <th>bin</th>\n",
       "      <th>bbl</th>\n",
       "      <th>nta</th>\n",
       "      <th>cuisine_description</th>\n",
       "    </tr>\n",
       "  </thead>\n",
       "  <tbody>\n",
       "    <tr>\n",
       "      <th>0</th>\n",
       "      <td>11332</td>\n",
       "      <td>50010393</td>\n",
       "      <td>04N</td>\n",
       "      <td>Filth flies or food/refuse/sewage-associated (...</td>\n",
       "      <td>Violations were cited in the following area(s).</td>\n",
       "      <td>12.0</td>\n",
       "      <td>Cycle Inspection / Re-inspection</td>\n",
       "      <td>A</td>\n",
       "      <td>2019-10-15</td>\n",
       "      <td>2019-10-15</td>\n",
       "      <td>...</td>\n",
       "      <td>2123043611</td>\n",
       "      <td>40.867432</td>\n",
       "      <td>-73.921059</td>\n",
       "      <td>112</td>\n",
       "      <td>10</td>\n",
       "      <td>29300.0</td>\n",
       "      <td>1082051.0</td>\n",
       "      <td>1022350020</td>\n",
       "      <td>MN01</td>\n",
       "      <td>Hamburgers</td>\n",
       "    </tr>\n",
       "    <tr>\n",
       "      <th>1</th>\n",
       "      <td>18909</td>\n",
       "      <td>50010393</td>\n",
       "      <td>08A</td>\n",
       "      <td>Facility not vermin proof. Harborage or condit...</td>\n",
       "      <td>Violations were cited in the following area(s).</td>\n",
       "      <td>32.0</td>\n",
       "      <td>Cycle Inspection / Initial Inspection</td>\n",
       "      <td>None</td>\n",
       "      <td>NaT</td>\n",
       "      <td>2019-07-25</td>\n",
       "      <td>...</td>\n",
       "      <td>2123043611</td>\n",
       "      <td>40.867432</td>\n",
       "      <td>-73.921059</td>\n",
       "      <td>112</td>\n",
       "      <td>10</td>\n",
       "      <td>29300.0</td>\n",
       "      <td>1082051.0</td>\n",
       "      <td>1022350020</td>\n",
       "      <td>MN01</td>\n",
       "      <td>Hamburgers</td>\n",
       "    </tr>\n",
       "  </tbody>\n",
       "</table>\n",
       "<p>2 rows × 28 columns</p>\n",
       "</div>"
      ],
      "text/plain": [
       "  column1_x     camis violation_code  \\\n",
       "0     11332  50010393            04N   \n",
       "1     18909  50010393            08A   \n",
       "\n",
       "                               violation_description  \\\n",
       "0  Filth flies or food/refuse/sewage-associated (...   \n",
       "1  Facility not vermin proof. Harborage or condit...   \n",
       "\n",
       "                                            action  score  \\\n",
       "0  Violations were cited in the following area(s).   12.0   \n",
       "1  Violations were cited in the following area(s).   32.0   \n",
       "\n",
       "                         inspection_type grade grade_date inspection_date  \\\n",
       "0       Cycle Inspection / Re-inspection     A 2019-10-15      2019-10-15   \n",
       "1  Cycle Inspection / Initial Inspection  None        NaT      2019-07-25   \n",
       "\n",
       "   ...       phone   latitude  longitude community_board council_district  \\\n",
       "0  ...  2123043611  40.867432 -73.921059             112               10   \n",
       "1  ...  2123043611  40.867432 -73.921059             112               10   \n",
       "\n",
       "  census_tract        bin         bbl   nta  cuisine_description  \n",
       "0      29300.0  1082051.0  1022350020  MN01           Hamburgers  \n",
       "1      29300.0  1082051.0  1022350020  MN01           Hamburgers  \n",
       "\n",
       "[2 rows x 28 columns]"
      ]
     },
     "execution_count": 5,
     "metadata": {},
     "output_type": "execute_result"
    }
   ],
   "source": [
    "merged_data = pd.merge(df1, df2, on='camis')\n",
    "merged_data.head(2)"
   ]
  },
  {
   "cell_type": "code",
   "execution_count": 6,
   "id": "e225402e",
   "metadata": {},
   "outputs": [
    {
     "name": "stdout",
     "output_type": "stream",
     "text": [
      "Total number of restaurants in NYC  27960\n",
      "Total number of violations in NYC restaurants 248020\n",
      "Total number of rows after merging the two tables 248020\n"
     ]
    }
   ],
   "source": [
    "print(\"Total number of restaurants in NYC \",len(df2.index))\n",
    "print(\"Total number of violations in NYC restaurants\",len(df1.index))\n",
    "print(\"Total number of rows after merging the two tables\",len(merged_data.index))"
   ]
  },
  {
   "cell_type": "markdown",
   "id": "da8d218f",
   "metadata": {},
   "source": [
    "# 5. Cleaning data \n",
    "1. check if the data contains any null or zero values \n",
    "2. remove all the null and zero values from the data "
   ]
  },
  {
   "cell_type": "code",
   "execution_count": 7,
   "id": "52555111",
   "metadata": {},
   "outputs": [
    {
     "data": {
      "text/plain": [
       "boro         \n",
       "Manhattan        93120\n",
       "Brooklyn         63282\n",
       "Queens           59307\n",
       "Bronx            24053\n",
       "Staten Island     8181\n",
       "0                   77\n",
       "dtype: int64"
      ]
     },
     "execution_count": 7,
     "metadata": {},
     "output_type": "execute_result"
    }
   ],
   "source": [
    "# checking if boro column has any null data \n",
    "# there is about 77 values that has zero on the boro column\n",
    "merged_data[['boro']].value_counts()"
   ]
  },
  {
   "cell_type": "code",
   "execution_count": 8,
   "id": "f0c1b655",
   "metadata": {},
   "outputs": [
    {
     "data": {
      "text/plain": [
       "boro         \n",
       "Manhattan        41232\n",
       "Brooklyn         28351\n",
       "Queens           26402\n",
       "Bronx            10689\n",
       "Staten Island     4108\n",
       "dtype: int64"
      ]
     },
     "execution_count": 8,
     "metadata": {},
     "output_type": "execute_result"
    }
   ],
   "source": [
    "# the dropna() method will remove all the zero values\n",
    "data_frame_4 = merged_data.dropna() #if there is any null value drop it \n",
    "data_frame_4[['boro']].value_counts()"
   ]
  },
  {
   "cell_type": "code",
   "execution_count": 9,
   "id": "3d977246",
   "metadata": {},
   "outputs": [
    {
     "name": "stdout",
     "output_type": "stream",
     "text": [
      "Total number of Merged data after droping the null values 110782\n"
     ]
    }
   ],
   "source": [
    "print(\"Total number of Merged data after droping the null values\",len(data_frame_4.index))"
   ]
  },
  {
   "cell_type": "markdown",
   "id": "59c95aaf",
   "metadata": {},
   "source": [
    "# 6. Boro with the most restaurants"
   ]
  },
  {
   "cell_type": "code",
   "execution_count": 10,
   "id": "2d4048a4",
   "metadata": {},
   "outputs": [
    {
     "data": {
      "text/plain": [
       "(array([41232., 28351., 26402.,  4108., 10689.]),\n",
       " array([0. , 0.8, 1.6, 2.4, 3.2, 4. ]),\n",
       " <BarContainer object of 5 artists>)"
      ]
     },
     "execution_count": 10,
     "metadata": {},
     "output_type": "execute_result"
    },
    {
     "data": {
      "image/png": "[encoded data removed]",
      "text/plain": [
       "<Figure size 640x480 with 1 Axes>"
      ]
     },
     "metadata": {},
     "output_type": "display_data"
    }
   ],
   "source": [
    "# This graph shows the number of restaurants in each boro\n",
    "# This is a histogram with the data divided into 5 bins based on the boro\n",
    "bins = 5\n",
    "  \n",
    "# plotting a histogram\n",
    "plt.hist(data_frame_4['boro'], bins, color = 'green',histtype = 'bar', rwidth = 0.8)"
   ]
  },
  {
   "cell_type": "markdown",
   "id": "0ec412c7",
   "metadata": {},
   "source": [
    "# 7. Number of violation grades"
   ]
  },
  {
   "cell_type": "code",
   "execution_count": 11,
   "id": "c22ec8ee",
   "metadata": {
    "scrolled": true
   },
   "outputs": [
    {
     "data": {
      "text/plain": [
       "(array([8.9508e+04, 5.2060e+03, 1.1867e+04, 3.1360e+03, 1.0550e+03,\n",
       "        1.0000e+01]),\n",
       " array([0.        , 0.83333333, 1.66666667, 2.5       , 3.33333333,\n",
       "        4.16666667, 5.        ]),\n",
       " <BarContainer object of 6 artists>)"
      ]
     },
     "execution_count": 11,
     "metadata": {},
     "output_type": "execute_result"
    },
    {
     "data": {
      "image/png": "[encoded data removed]",
      "text/plain": [
       "<Figure size 640x480 with 1 Axes>"
      ]
     },
     "metadata": {},
     "output_type": "display_data"
    }
   ],
   "source": [
    "plt.hist(data_frame_4['grade'], 6, color = 'blue',histtype = 'bar', rwidth = 0.8)"
   ]
  },
  {
   "cell_type": "markdown",
   "id": "705b1d92",
   "metadata": {},
   "source": [
    "# 8. Plot of Grade by Boro"
   ]
  },
  {
   "cell_type": "code",
   "execution_count": 12,
   "id": "2ea8cf19",
   "metadata": {},
   "outputs": [
    {
     "data": {
      "image/png": "[encoded data removed]",
      "text/plain": [
       "<Figure size 1500x1000 with 1 Axes>"
      ]
     },
     "metadata": {},
     "output_type": "display_data"
    }
   ],
   "source": [
    "# Bar graph based on boro and grouped by grades\n",
    "data_frame_4.groupby(['boro','grade']).size().unstack().plot(kind='bar',stacked=True,figsize=(15, 10))\n",
    "plt.show()\n",
    "# Majority of the inspection grades are A"
   ]
  },
  {
   "cell_type": "code",
   "execution_count": 13,
   "id": "ae68bbb9",
   "metadata": {},
   "outputs": [
    {
     "data": {
      "text/plain": [
       "boro       cuisine_description\n",
       "Manhattan  American               11015\n",
       "Brooklyn   American                4984\n",
       "Queens     American                3794\n",
       "Manhattan  Coffee/Tea              3294\n",
       "Queens     Chinese                 3257\n",
       "                                  ...  \n",
       "           Vegan                      2\n",
       "Brooklyn   Fruits/Vegetables          1\n",
       "Manhattan  Creole/Cajun               1\n",
       "Brooklyn   English                    1\n",
       "Manhattan  Armenian                   1\n",
       "Length: 337, dtype: int64"
      ]
     },
     "execution_count": 13,
     "metadata": {},
     "output_type": "execute_result"
    }
   ],
   "source": [
    "#shows the most popular cuisine in each boro\n",
    "number_of_cuisine = data_frame_4[['boro','cuisine_description']].value_counts()\n",
    "number_of_cuisine\n",
    "\n",
    "# results show that American cuisine is the most popular in Manhattan, Brooklyn, and Queens."
   ]
  },
  {
   "cell_type": "code",
   "execution_count": 14,
   "id": "280742b0",
   "metadata": {},
   "outputs": [
    {
     "name": "stdout",
     "output_type": "stream",
     "text": [
      "camis     dba                            \n",
      "41474882  BUKA                               39\n",
      "41187577  HANSOL NUTRITION CENTER            30\n",
      "40400811  CAFE VOLNA                         28\n",
      "50085082  FLAMING GRILL AND MODERN BUFFET    28\n",
      "50044955  ONE EAST OCEAN PALACE              28\n",
      "40762853  GREAT N.Y. NOODLETOWN              27\n",
      "50073724  COM TAM NINH KIEU                  27\n",
      "41703394  PIONEERS BAR & LOUNGE              27\n",
      "50046867  PICNIC WORLD CORP                  26\n",
      "41582631  TINY'S AND THE BAR UPSTAIRS        26\n",
      "dtype: int64\n"
     ]
    }
   ],
   "source": [
    "# Top 10 Restaurant with the highest violations\n",
    "highest_violation = data_frame_4[['camis','dba']].value_counts().nlargest(n=10)\n",
    "print(highest_violation)"
   ]
  },
  {
   "cell_type": "markdown",
   "id": "da743ec5",
   "metadata": {},
   "source": [
    "# 9. Filter location based on the above data\n",
    "    1. Find all the restaurants located in Manhattan\n",
    "    2. Filter all the restaurants that are only American cuisine\n",
    "    3. Filter restaurants with only A grades "
   ]
  },
  {
   "cell_type": "code",
   "execution_count": 15,
   "id": "99a0924d",
   "metadata": {},
   "outputs": [
    {
     "name": "stdout",
     "output_type": "stream",
     "text": [
      "Number of restaurants that are in Manhattan, American cuisine, and has a grade A: 9546\n"
     ]
    }
   ],
   "source": [
    "# Filter the data based on Manhattan, American cuisine, and has a grade A\n",
    "data_frame_5 = data_frame_4.loc[(data_frame_4['boro'] == 'Manhattan') & (data_frame_4['cuisine_description'] == 'American')]\n",
    "data_frame_5 = data_frame_5.loc[(data_frame_5['grade'] == 'A')]\n",
    "print(\"Number of restaurants that are in Manhattan, American cuisine, and has a grade A:\", len(data_frame_5.index))"
   ]
  },
  {
   "cell_type": "code",
   "execution_count": 16,
   "id": "2bc6a72a",
   "metadata": {},
   "outputs": [
    {
     "data": {
      "image/png": "[encoded data removed]",
      "text/plain": [
       "<Figure size 1500x1000 with 1 Axes>"
      ]
     },
     "metadata": {},
     "output_type": "display_data"
    }
   ],
   "source": [
    "# Find the top 15 zipcodes with the most number of restaurants in a graph \n",
    "df = data_frame_5[['zipcode']].value_counts().nlargest(n=15)\n",
    "df.plot.bar(y='grade', rot=0,figsize=(15, 10))\n",
    "plt.show()"
   ]
  },
  {
   "cell_type": "code",
   "execution_count": 17,
   "id": "d631922d",
   "metadata": {},
   "outputs": [
    {
     "data": {
      "text/plain": [
       "zipcode\n",
       "10036      905\n",
       "10019      888\n",
       "10022      561\n",
       "10003      529\n",
       "10014      473\n",
       "10001      447\n",
       "10011      436\n",
       "10012      412\n",
       "10002      383\n",
       "10013      362\n",
       "10018      340\n",
       "10016      334\n",
       "10017      330\n",
       "10009      314\n",
       "10010      275\n",
       "10038      201\n",
       "10023      187\n",
       "10028      173\n",
       "10004      166\n",
       "10065      161\n",
       "dtype: int64"
      ]
     },
     "execution_count": 17,
     "metadata": {},
     "output_type": "execute_result"
    }
   ],
   "source": [
    "# same data as above graph, top 20 zipcodes with the most restaurants \n",
    "data_frame_5[['zipcode']].value_counts().nlargest(n=20)"
   ]
  },
  {
   "cell_type": "markdown",
   "id": "e2beff6e",
   "metadata": {},
   "source": [
    "# 10. Conclusion\n",
    "These are the top 20 locations based on zip code that are suitable for an American cuisine restaurant. Zip code 10036 has the highest number of American cuisine restaurants. This also means that 10036 is the most competitive location. Any zip code with less than 400 restaurants is suitable for an American cuisine restaurant with less competition.  "
   ]
  }
 ],
 "metadata": {
  "kernelspec": {
   "display_name": "Python 3 (ipykernel)",
   "language": "python",
   "name": "python3"
  },
  "language_info": {
   "codemirror_mode": {
    "name": "ipython",
    "version": 3
   },
   "file_extension": ".py",
   "mimetype": "text/x-python",
   "name": "python",
   "nbconvert_exporter": "python",
   "pygments_lexer": "ipython3",
   "version": "3.9.13"
  }
 },
 "nbformat": 4,
 "nbformat_minor": 5
}
